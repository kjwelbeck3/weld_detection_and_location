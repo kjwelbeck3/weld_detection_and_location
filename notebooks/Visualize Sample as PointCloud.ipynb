{
 "cells": [
  {
   "cell_type": "code",
   "execution_count": 1,
   "id": "a9df07ef",
   "metadata": {},
   "outputs": [
    {
     "name": "stdout",
     "output_type": "stream",
     "text": [
      "Jupyter environment detected. Enabling Open3D WebVisualizer.\n",
      "[Open3D INFO] WebRTC GUI backend enabled.\n",
      "[Open3D INFO] WebRTCWindowSystem: HTTP handshake server disabled.\n"
     ]
    }
   ],
   "source": [
    "## Visualizing a Point Cloud\n",
    "import numpy as np\n",
    "from dataset import pcloader\n",
    "import open3d as o3d\n",
    "import os"
   ]
  },
  {
   "cell_type": "code",
   "execution_count": 4,
   "id": "fe90c40a",
   "metadata": {},
   "outputs": [
    {
     "name": "stdout",
     "output_type": "stream",
     "text": [
      "file_path exists?  True\n"
     ]
    }
   ],
   "source": [
    "# file_path = \"C://Users//KZTYLF//Downloads//test1//1_RH-10-231201537-Pass-2023_06_07-11-45-11-363.ply\"\n",
    "file_path = \"C://Users//KZTYLF//Downloads//test1//Gocator_Lab_1//1-1-X-Fail-2023_06_14-16-22-15-971.ply\"\n",
    "\n",
    "## verify file_path\n",
    "print(\"file_path exists? \",os.path.isfile(file_path))\n",
    "\n",
    "## read points from file\n",
    "points, _ = pcloader(file_path)\n",
    "\n",
    "## load points into o3d's PointCloud and visualize\n",
    "pcd = o3d.geometry.PointCloud()\n",
    "pcd.points = o3d.utility.Vector3dVector(points)\n",
    "o3d.visualization.draw_geometries([pcd])"
   ]
  },
  {
   "cell_type": "code",
   "execution_count": null,
   "id": "dc181439",
   "metadata": {},
   "outputs": [],
   "source": []
  }
 ],
 "metadata": {
  "kernelspec": {
   "display_name": "Python 3 (ipykernel)",
   "language": "python",
   "name": "python3"
  },
  "language_info": {
   "codemirror_mode": {
    "name": "ipython",
    "version": 3
   },
   "file_extension": ".py",
   "mimetype": "text/x-python",
   "name": "python",
   "nbconvert_exporter": "python",
   "pygments_lexer": "ipython3",
   "version": "3.10.10"
  }
 },
 "nbformat": 4,
 "nbformat_minor": 5
}
