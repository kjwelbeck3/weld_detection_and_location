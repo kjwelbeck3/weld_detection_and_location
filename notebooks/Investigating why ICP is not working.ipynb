{
 "cells": [
  {
   "cell_type": "code",
   "execution_count": 1,
   "id": "03e6419d",
   "metadata": {},
   "outputs": [],
   "source": [
    "## Plan\n",
    "# Take 2 of the same Point Cloud\n",
    "# Shift one by xyz rpy\n",
    "# Visualize together\n",
    "\n",
    "# Try different combinations of args\n",
    "# Recover the xyz rpy transformation"
   ]
  },
  {
   "cell_type": "code",
   "execution_count": 2,
   "id": "9c35e790",
   "metadata": {},
   "outputs": [
    {
     "name": "stdout",
     "output_type": "stream",
     "text": [
      "Jupyter environment detected. Enabling Open3D WebVisualizer.\n",
      "[Open3D INFO] WebRTC GUI backend enabled.\n",
      "[Open3D INFO] WebRTCWindowSystem: HTTP handshake server disabled.\n"
     ]
    }
   ],
   "source": [
    "import numpy as np\n",
    "import open3d as o3d"
   ]
  },
  {
   "cell_type": "code",
   "execution_count": 3,
   "id": "6be2e7da",
   "metadata": {},
   "outputs": [
    {
     "data": {
      "text/plain": [
       "array([[ 3.1, -8.1, -1. ],\n",
       "       [ 3.1, -7.8, -1. ],\n",
       "       [ 3.1, -7.5, -1. ],\n",
       "       ...,\n",
       "       [-3.2,  7.2,  0.8],\n",
       "       [-3.2,  7.5,  0.8],\n",
       "       [-3.2,  7.8,  0.8]])"
      ]
     },
     "execution_count": 3,
     "metadata": {},
     "output_type": "execute_result"
    }
   ],
   "source": [
    "def gen_volumetric_weld_templates_by_params():\n",
    "    x_min, x_max = -4.0, 4.0\n",
    "    y_min, y_max = -12.0, 12.0\n",
    "    z_min, z_max = -1, 1\n",
    "    resolution = 0.3\n",
    "    stem_x_min, stem_x_max = 1.8, 3.2\n",
    "    stem_y_min, stem_y_max = -8.0, 8.0\n",
    "    top_center_y = 7.5\n",
    "    bottom_center_y = -7.5\n",
    "    radius = 3.20\n",
    "    \n",
    "    def dist(pt1, pt2):\n",
    "        x1, y1 = pt1\n",
    "        x2, y2 = pt2\n",
    "        dx = x2-x1\n",
    "        dy = y2-y1\n",
    "        return np.sqrt(dx**2 + dy**2)\n",
    "\n",
    "    points2 = []\n",
    "    \n",
    "    for z in np.arange(z_min, z_max, resolution):\n",
    "        for x in np.arange(x_min, x_max, resolution):\n",
    "            for y in np.arange(y_min, y_max, resolution):\n",
    "                if dist((x,y), (0, top_center_y)) <= radius:\n",
    "                    points2.append((x,y,z))\n",
    "                elif dist((x,y), (0, bottom_center_y)) <= radius:\n",
    "                    points2.append((x,y,z))\n",
    "                elif stem_x_min<=x<=stem_x_max and stem_y_min<=y<=stem_y_max:\n",
    "                    points2.append((x,y,z))\n",
    "\n",
    "    points1 = [(-x, y, z) for x, y, z in points2]\n",
    "    return {\"[\": points1, \"]\": points2}\n",
    "\n",
    "## Inital PC coords\n",
    "volumetric_templates = gen_volumetric_weld_templates_by_params()\n",
    "pts1 = np.array(volumetric_templates[\"[\"])\n",
    "# pts1"
   ]
  },
  {
   "cell_type": "code",
   "execution_count": 7,
   "id": "05c0c59e",
   "metadata": {},
   "outputs": [
    {
     "data": {
      "text/plain": [
       "array([[ 13.1, -18.1,  19. ],\n",
       "       [ 13.1, -17.8,  19. ],\n",
       "       [ 13.1, -17.5,  19. ],\n",
       "       ...,\n",
       "       [  6.8,  -2.8,  20.8],\n",
       "       [  6.8,  -2.5,  20.8],\n",
       "       [  6.8,  -2.2,  20.8]])"
      ]
     },
     "execution_count": 7,
     "metadata": {},
     "output_type": "execute_result"
    }
   ],
   "source": [
    "## Creating Secondary PC Coords by Translating init\n",
    "T = np.identity(4)\n",
    "T[:, -1] = np.array([10,-10, 20, 1])\n",
    "pts2 = np.ones((pts1.shape[0], 4))\n",
    "pts2[:, :-1] = pts1[:, :]\n",
    "pts2 = (T@pts2.T).T\n",
    "pts2 = pts2[:, :3]\n",
    "# pts2"
   ]
  },
  {
   "cell_type": "code",
   "execution_count": 14,
   "id": "070b57f3",
   "metadata": {},
   "outputs": [
    {
     "name": "stdout",
     "output_type": "stream",
     "text": [
      "pts1: 6419\n",
      "[[ 3.1 -8.1 -1. ]\n",
      " [ 3.1 -7.8 -1. ]\n",
      " [ 3.1 -7.5 -1. ]\n",
      " ...\n",
      " [-3.2  7.2  0.8]\n",
      " [-3.2  7.5  0.8]\n",
      " [-3.2  7.8  0.8]]\n",
      "\n",
      "T\n",
      "[[  1.   0.   0.  10.]\n",
      " [  0.   1.   0. -10.]\n",
      " [  0.   0.   1.  20.]\n",
      " [  0.   0.   0.   1.]]\n",
      "\n",
      "pts2: 6419\n",
      "[[ 13.1 -18.1  19. ]\n",
      " [ 13.1 -17.8  19. ]\n",
      " [ 13.1 -17.5  19. ]\n",
      " ...\n",
      " [  6.8  -2.8  20.8]\n",
      " [  6.8  -2.5  20.8]\n",
      " [  6.8  -2.2  20.8]]\n",
      "\n"
     ]
    }
   ],
   "source": [
    "print(f\"pts1: {pts1.shape[0]}\")\n",
    "print(pts1)\n",
    "print()\n",
    "\n",
    "print(\"T\")\n",
    "print(T)\n",
    "print()\n",
    "\n",
    "print(f\"pts2: {pts2.shape[0]}\")\n",
    "print(pts2)\n",
    "print()"
   ]
  },
  {
   "cell_type": "code",
   "execution_count": 10,
   "id": "f6a21979",
   "metadata": {},
   "outputs": [],
   "source": [
    "## Combining the PCs into one\n",
    "pts = np.vstack([pts1, pts2])\n",
    "\n",
    "## Encapsulating as a PC object and visualizing\n",
    "pcd = o3d.geometry.PointCloud()\n",
    "pcd.points = o3d.utility.Vector3dVector(pts)\n",
    "o3d.visualization.draw_geometries([pcd])"
   ]
  },
  {
   "cell_type": "code",
   "execution_count": 60,
   "id": "2d7b86f2",
   "metadata": {},
   "outputs": [],
   "source": [
    "# 2 separate PC objects\n",
    "pcdTarget = o3d.geometry.PointCloud()\n",
    "pcdTarget.points = o3d.utility.Vector3dVector(pts2)\n",
    "pcdTarget.paint_uniform_color((.5, 0, 0))\n",
    "\n",
    "pcdTemplate = o3d.geometry.PointCloud()\n",
    "pcdTemplate.points = o3d.utility.Vector3dVector(pts1)\n",
    "pcdTemplate.paint_uniform_color((0, 0, 0.5))\n",
    "\n",
    "## duplicates\n",
    "pcdTarget_dup = o3d.geometry.PointCloud()\n",
    "pcdTarget_dup.points = o3d.utility.Vector3dVector(pts2)\n",
    "pcdTarget_dup.paint_uniform_color((0, 0.5, 0))\n",
    "\n",
    "pcdTemplate_dup = o3d.geometry.PointCloud()\n",
    "pcdTemplate_dup.points = o3d.utility.Vector3dVector(pts1)\n",
    "pcdTemplate_dup.paint_uniform_color((0, 0.5, 0))\n",
    "\n",
    "## Visualizing together \n",
    "o3d.visualization.draw_geometries([pcdTarget, pcdTemplate, pcdTarget_dup, pcdTemplate_dup])\n",
    "# o3d.visualization.draw_geometries([pcdTarget_dup, pcdTemplate_dup])"
   ]
  },
  {
   "cell_type": "code",
   "execution_count": 43,
   "id": "56aba4cd",
   "metadata": {},
   "outputs": [
    {
     "data": {
      "text/plain": [
       "RegistrationResult with fitness=8.912603e-01, inlier_rmse=2.895010e-01, and correspondence_set size of 5721\n",
       "Access transformation to get result."
      ]
     },
     "execution_count": 43,
     "metadata": {},
     "output_type": "execute_result"
    }
   ],
   "source": [
    "## Attempting Pt2Pt ICP\n",
    "\n",
    "## Args: source, target, max_correspondence_distance, init_transform, \n",
    "##     estimation method, convergence criteria\n",
    "init_transform = np.identity(4)\n",
    "init_transform[:, -1] = np.array([9,-11, 20.5, 1])\n",
    "dist_threshold = 0.7\n",
    "result = o3d.pipelines.registration.registration_icp(pcdTemplate, pcdTarget, dist_threshold, init_transform,\n",
    "                                                    o3d.pipelines.registration.TransformationEstimationPointToPoint())\n",
    "result"
   ]
  },
  {
   "cell_type": "code",
   "execution_count": 44,
   "id": "565dff0f",
   "metadata": {},
   "outputs": [
    {
     "data": {
      "text/plain": [
       "array([[ 9.99996807e-01, -1.34201495e-03,  2.14144869e-03,\n",
       "         9.16744680e+00],\n",
       "       [ 1.34167376e-03,  9.99999087e-01,  1.60755086e-04,\n",
       "        -1.08763895e+01],\n",
       "       [-2.14166247e-03, -1.57881448e-04,  9.99997694e-01,\n",
       "         2.04774936e+01],\n",
       "       [ 0.00000000e+00,  0.00000000e+00,  0.00000000e+00,\n",
       "         1.00000000e+00]])"
      ]
     },
     "execution_count": 44,
     "metadata": {},
     "output_type": "execute_result"
    }
   ],
   "source": [
    "result.transformation"
   ]
  },
  {
   "cell_type": "code",
   "execution_count": 45,
   "id": "a5a870aa",
   "metadata": {},
   "outputs": [],
   "source": [
    "## Transform template by result Transform\n",
    "\n"
   ]
  },
  {
   "cell_type": "code",
   "execution_count": 67,
   "id": "ed53b64f",
   "metadata": {},
   "outputs": [],
   "source": [
    "def draw_registration_result(source, target, transformation1, transformation2):\n",
    "    source_temp = o3d.geometry.PointCloud(source)\n",
    "    source_temp2 = o3d.geometry.PointCloud(source)\n",
    "    target_temp = o3d.geometry.PointCloud(target)\n",
    "    \n",
    "#     target_temp.transform(transformation)\n",
    "#     target_temp.paint_uniform_color((0,0,0))\n",
    "#     source_temp.transform(transformation)\n",
    "    source_temp.transform(transformation1)\n",
    "    source_temp.paint_uniform_color((0.4,0.4,0.4))\n",
    "    source_temp2.transform(transformation2)\n",
    "    source_temp2.paint_uniform_color((1,0.4,0.4))\n",
    "#     target_temp2 = target_temp.transform(transformation)\n",
    "\n",
    "    \n",
    "#     o3d.visualization.draw_geometries([source_temp.to_legacy(), target_temp.to_legacy()])\n",
    "#     o3d.visualization.draw_geometries([source_temp, target_temp, source, target])\n",
    "#     o3d.visualization.draw_geometries([source_temp, source_temp2, source, target])\n",
    "    o3d.visualization.draw_geometries([source_temp, source_temp2])\n",
    "#     o3d.visualization.draw_geometries([source_temp, target_temp, source, target])\n",
    "#     o3d.visualization.draw_geometries([source_temp, target_temp, target_temp2])\n",
    "\n",
    "draw_registration_result(pcdTemplate, pcdTarget, init_transform, result.transformation)\n",
    "# draw_registration_result(pcdTemplate, pcdTarget, result.transformation)\n",
    "    "
   ]
  },
  {
   "cell_type": "code",
   "execution_count": 68,
   "id": "a3d3c2c2",
   "metadata": {},
   "outputs": [],
   "source": [
    "## need to fine tune the icp arguments for tighter alignment\n",
    "## Scan multiple max correspondence thresholds and note the \n",
    "    ## The correspondeces, the rmse, the fitness and the time to process"
   ]
  },
  {
   "cell_type": "code",
   "execution_count": null,
   "id": "e55f728b",
   "metadata": {},
   "outputs": [],
   "source": []
  },
  {
   "cell_type": "code",
   "execution_count": null,
   "id": "0d118224",
   "metadata": {},
   "outputs": [],
   "source": []
  },
  {
   "cell_type": "code",
   "execution_count": null,
   "id": "1e7f6888",
   "metadata": {},
   "outputs": [],
   "source": [
    "### Results Summary from different args used\n",
    "\n"
   ]
  }
 ],
 "metadata": {
  "kernelspec": {
   "display_name": "Python 3 (ipykernel)",
   "language": "python",
   "name": "python3"
  },
  "language_info": {
   "codemirror_mode": {
    "name": "ipython",
    "version": 3
   },
   "file_extension": ".py",
   "mimetype": "text/x-python",
   "name": "python",
   "nbconvert_exporter": "python",
   "pygments_lexer": "ipython3",
   "version": "3.10.10"
  }
 },
 "nbformat": 4,
 "nbformat_minor": 5
}
