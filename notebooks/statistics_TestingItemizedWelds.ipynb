{
 "cells": [
  {
   "cell_type": "code",
   "execution_count": 1,
   "id": "3e264f63",
   "metadata": {},
   "outputs": [],
   "source": [
    "## Tests and Utilities to verify/query the per weld dataset"
   ]
  },
  {
   "cell_type": "code",
   "execution_count": 2,
   "id": "99c58aff",
   "metadata": {},
   "outputs": [
    {
     "name": "stdout",
     "output_type": "stream",
     "text": [
      "Jupyter environment detected. Enabling Open3D WebVisualizer.\n",
      "[Open3D INFO] WebRTC GUI backend enabled.\n",
      "[Open3D INFO] WebRTCWindowSystem: HTTP handshake server disabled.\n"
     ]
    }
   ],
   "source": [
    "import numpy as np\n",
    "import os\n",
    "from utils import parse_labelfile, parse_dataset_file\n",
    "import csv"
   ]
  },
  {
   "cell_type": "code",
   "execution_count": 3,
   "id": "18460f0b",
   "metadata": {},
   "outputs": [],
   "source": [
    "## Test 1: \n",
    "## Check that all in the training set has corresponding weld point clouds and label files\n",
    "## Specifically: \n",
    "## Count the number of point cloud and label files for matching number, and identify anomalies\n",
    "## Check the counts against the expected counts according to the original label file and identify the discrepancy\n",
    "## \n",
    "## "
   ]
  },
  {
   "cell_type": "code",
   "execution_count": 4,
   "id": "25387d93",
   "metadata": {},
   "outputs": [],
   "source": [
    "#################\n",
    "# ON TRAINING SET\n",
    "#################\n",
    "\n",
    "# root_dir = \"C:/Users/KZTYLF/Documents/playground/GNN UIs/GNN InstanceSegmentation/Recreating Dataset/\"\n",
    "# set_text = root_dir+\"_data/train.txt\"\n",
    "# set_weld_pcs = root_dir+\"locationing_dataset/train/point_clouds/\"\n",
    "# set_weld_labels = root_dir+\"locationing_dataset/train/labels/\"\n",
    "# set_root = root_dir+\"locationing_dataset/train/\"\n",
    "\n",
    "#################\n",
    "# ON TEST SET\n",
    "#################\n",
    "\n",
    "root_dir = \"C:/Users/KZTYLF/Documents/playground/GNN UIs/GNN InstanceSegmentation/Recreating Dataset/\"\n",
    "set_text = root_dir+\"_data/test.txt\"\n",
    "set_weld_pcs = root_dir+\"locationing_dataset/test/point_clouds/\"\n",
    "set_weld_labels = root_dir+\"locationing_dataset/test/labels/\"\n",
    "set_root = root_dir+\"locationing_dataset/test/\""
   ]
  },
  {
   "cell_type": "code",
   "execution_count": 5,
   "id": "30e1195b",
   "metadata": {},
   "outputs": [
    {
     "name": "stdout",
     "output_type": "stream",
     "text": [
      "Original set samples count: 121\n",
      "\n",
      "Checking counts of weld pointclouds and labels\n",
      "Labels:  526\n",
      "Point Clouds:  526\n",
      "\n"
     ]
    }
   ],
   "source": [
    "## Counting Samples from the set list\n",
    "set_samples = parse_dataset_file(set_text)\n",
    "print(\"Original set samples count:\", len(set_samples))\n",
    "print()\n",
    "\n",
    "## To verify point clouds and label file counts match\n",
    "print(\"Checking counts of weld pointclouds and labels\")\n",
    "set_weld_labels = os.listdir(set_weld_labels)\n",
    "set_weld_pcs = os.listdir(set_weld_pcs)\n",
    "print(\"Labels: \", len(set_weld_labels))\n",
    "print(\"Point Clouds: \", len(set_weld_pcs))\n",
    "print()"
   ]
  },
  {
   "cell_type": "code",
   "execution_count": 6,
   "id": "cccbb5b6",
   "metadata": {},
   "outputs": [
    {
     "name": "stdout",
     "output_type": "stream",
     "text": [
      "Checking respective counts generated against the expected number as itemized in orginal label file, and identifying anomalies...\n",
      "LH-3-231201605-Pass-2023_06_12-10-46-06-374 6 4 4\n",
      "LH-2-231201596-Pass-2023_06_12-9-22-40-303 4 2 2\n",
      "LH-6-231201595-Pass-2023_06_12-9-21-22-515 4 2 2\n",
      "LH-3-231201600-Pass-2023_06_12-9-38-37-588 6 4 4\n",
      "LH-3-231201597-Pass-2023_06_12-9-27-19-422 6 4 4\n",
      "RH-7-231201596-Fail-2023_06_13-12-19-11-036 6 4 4\n",
      "LH-6-231201598-Pass-2023_06_12-9-30-40-570 4 2 2\n",
      "LH-2-231201599-Pass-2023_06_12-9-34-34-210 4 2 2\n",
      "LH-3-231201596-Pass-2023_06_12-9-22-44-921 6 4 4\n",
      "LH-6-231201602-Pass-2023_06_12-9-53-25-942 4 2 2\n",
      "LH-2-231201595-Pass-2023_06_12-9-21-03-886 4 2 2\n",
      "RH-9-231201591-Pass-2023_06_09-10-51-11-577 4 2 2\n",
      "RH-2-231201593-Pass-2023_06_09-10-54-31-162 4 3 3\n",
      "RH-4-231201590-Fail-2023_06_09-10-48-34-421 6 3 3\n",
      "RH-7-231201616-Fail-2023_06_12-12-14-28-799 6 3 3\n",
      "RH-2-231201588-Pass-2023_06_09-10-44-32-644 4 3 3\n",
      "RH-8-231201592-Pass-2023_06_09-10-53-26-003 4 2 2\n",
      "LH-6-231201603-Fail-2023_06_13-13-30-45-710 6 4 4\n",
      "LH-5-231201597-Fail-2023_06_13-12-22-08-360 4 2 2\n",
      "LH-5-231201604-Fail-2023_06_13-13-34-23-901 4 2 2\n",
      "LH-10-231201595-Fail-2023_06_13-12-15-48-417 6 3 3\n",
      "RH-5-231201592-Fail-2023_06_09-10-53-12-049 4 2 2\n",
      "LH-5-231201595-Fail-2023_06_13-12-15-01-556 4 2 2\n",
      "LH-5-231201607-Fail-2023_06_13-13-44-55-051 4 2 2\n",
      "RH-7-231201617-Fail-2023_06_12-12-18-26-677 6 3 3\n",
      "RH-5-231201589-Fail-2023_06_09-10-46-42-686 4 2 2\n",
      "LH-5-231201601-Fail-2023_06_13-13-16-14-093 4 2 2\n",
      "label_and_pc_anomalies count:  0\n",
      "vs_orig_anomalies count:  27\n"
     ]
    }
   ],
   "source": [
    "print(\"Checking respective counts generated against the expected number as itemized in orginal label file, and identifying anomalies...\")\n",
    "\n",
    "label_and_pc_anomalies = []\n",
    "vs_orig_anomalies = []\n",
    "vs_orig_anomalies_expanded = []\n",
    "\n",
    "## Looping through each Sample\n",
    "for i, sample in enumerate(set_samples):\n",
    "    tag = sample['name']\n",
    "    \n",
    "    ## Expected number as itemized in orginal label file\n",
    "    orig_count = len(parse_labelfile(sample[\"label_path\"])['welds'])\n",
    "\n",
    "    ## Looping through each file of generaed labels\n",
    "    ## Looping through each file of generated point clouds \n",
    "    ## Counting common source\n",
    "    \n",
    "    label_count = 0\n",
    "    pc_count = 0\n",
    "    \n",
    "    for label_filename in set_weld_labels:\n",
    "        if tag in label_filename:\n",
    "            label_count += 1\n",
    "            \n",
    "    for pc_filename in set_weld_pcs:\n",
    "        if tag in pc_filename:\n",
    "            pc_count += 1\n",
    "            \n",
    "    ## Check label counts and point cloud counts\n",
    "    ## Collecting anomolous pairings\n",
    "    if label_count != pc_count:\n",
    "        label_and_pc_anomalies.append(tag)\n",
    "        \n",
    "    ## Check label counts and original label counts\n",
    "    ## Collecting anomolous pairings\n",
    "    if label_count != orig_count:\n",
    "        vs_orig_anomalies.append(tag)\n",
    "        vs_orig_anomalies_expanded.append([tag, orig_count, label_count, pc_count])\n",
    "        print(tag, orig_count, label_count, pc_count)\n",
    "\n",
    "## Summary Prints\n",
    "print(\"label_and_pc_anomalies count: \", len(label_and_pc_anomalies))\n",
    "print(\"vs_orig_anomalies count: \", len(vs_orig_anomalies))"
   ]
  },
  {
   "cell_type": "code",
   "execution_count": 7,
   "id": "22a19e1b",
   "metadata": {},
   "outputs": [],
   "source": [
    "## Sorting anomolies by the tag name befor writing to CSV\n",
    "vs_orig_anomalies_expanded = sorted(vs_orig_anomalies_expanded, key=lambda vs_orig_anomalies_expanded: vs_orig_anomalies_expanded[0])\n",
    "\n",
    "# Outputting to csv\n",
    "with open(set_root+\"anomalies.csv\", \"w\") as csvfile:\n",
    "    _writer = csv.writer(csvfile)\n",
    "    _writer.writerow(['tag', 'orig_count', 'label_count', 'pc_count'])\n",
    "    \n",
    "    for i in vs_orig_anomalies_expanded:\n",
    "        _writer.writerow(i)"
   ]
  },
  {
   "cell_type": "code",
   "execution_count": null,
   "id": "93d9625f",
   "metadata": {},
   "outputs": [],
   "source": []
  }
 ],
 "metadata": {
  "kernelspec": {
   "display_name": "Python 3 (ipykernel)",
   "language": "python",
   "name": "python3"
  },
  "language_info": {
   "codemirror_mode": {
    "name": "ipython",
    "version": 3
   },
   "file_extension": ".py",
   "mimetype": "text/x-python",
   "name": "python",
   "nbconvert_exporter": "python",
   "pygments_lexer": "ipython3",
   "version": "3.10.10"
  }
 },
 "nbformat": 4,
 "nbformat_minor": 5
}
