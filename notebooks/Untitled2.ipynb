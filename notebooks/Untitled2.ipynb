{
 "cells": [
  {
   "cell_type": "code",
   "execution_count": 1,
   "id": "b76e835c",
   "metadata": {},
   "outputs": [],
   "source": [
    "import numpy as np"
   ]
  },
  {
   "cell_type": "code",
   "execution_count": 15,
   "id": "f65967d7",
   "metadata": {},
   "outputs": [
    {
     "name": "stdout",
     "output_type": "stream",
     "text": [
      "[[0.5488135  0.71518937 0.60276338]\n",
      " [0.54488318 0.4236548  0.64589411]\n",
      " [0.43758721 0.891773   0.96366276]\n",
      " [0.38344152 0.79172504 0.52889492]\n",
      " [0.56804456 0.92559664 0.07103606]]\n",
      "\n",
      "0.3834415188257777\n",
      "0.4236547993389047\n"
     ]
    }
   ],
   "source": [
    "np.random.seed(0)\n",
    "arr = np.random.random((5, 3))\n",
    "xmin, ymin  = np.amin(arr[:, :2], 0)\n",
    "# xmin, ymin, _ = arr_min\n",
    "print(arr)\n",
    "print()\n",
    "print(xmin)\n",
    "print(ymin)"
   ]
  },
  {
   "cell_type": "code",
   "execution_count": 23,
   "id": "dd89ddeb",
   "metadata": {},
   "outputs": [
    {
     "name": "stdout",
     "output_type": "stream",
     "text": [
      "pc\n",
      "[[8 1 1]\n",
      " [0 3 8]\n",
      " [8 4 4]\n",
      " [0 9 3]\n",
      " [7 3 2]\n",
      " [1 1 2]\n",
      " [1 4 2]\n",
      " [5 5 5]\n",
      " [2 5 7]\n",
      " [7 6 1]]\n",
      "\n",
      "pc_min\n",
      "[0 1]\n",
      "\n",
      "pc_max\n",
      "[8 9]\n",
      "\n",
      "[[1.    0.   ]\n",
      " [0.    0.25 ]\n",
      " [1.    0.375]\n",
      " [0.    1.   ]\n",
      " [0.875 0.25 ]\n",
      " [0.125 0.   ]\n",
      " [0.125 0.375]\n",
      " [0.625 0.5  ]\n",
      " [0.25  0.5  ]\n",
      " [0.875 0.625]]\n"
     ]
    }
   ],
   "source": [
    "pc = np.random.randint(10, size=(10, 3))\n",
    "# pc = np.array([3,4,5]).reshape((1,3))\n",
    "print(\"pc\")\n",
    "print(pc)\n",
    "print()\n",
    "\n",
    "xmin, ymin = np.amin(pc[:, :2],0)\n",
    "pc_min = np.amin(pc[:, :2],0)\n",
    "print(\"pc_min\")\n",
    "print(pc_min)\n",
    "print()\n",
    "\n",
    "xmax, ymax = np.amax(pc[:, :2],0)\n",
    "pc_max = np.amax(pc[:, :2],0)\n",
    "print(\"pc_max\")\n",
    "print(pc_max)\n",
    "print()\n",
    "\n",
    "pc_span = pc_max - pc_min\n",
    "pc  = (pc[:, :2] - pc_min)/pc_span\n",
    "\n",
    "print(pc)"
   ]
  },
  {
   "cell_type": "code",
   "execution_count": 25,
   "id": "6c0722e0",
   "metadata": {},
   "outputs": [
    {
     "data": {
      "text/plain": [
       "0.1"
      ]
     },
     "execution_count": 25,
     "metadata": {},
     "output_type": "execute_result"
    }
   ],
   "source": [
    "0.8/np.max(pc_span)"
   ]
  },
  {
   "cell_type": "code",
   "execution_count": null,
   "id": "ce4424c1",
   "metadata": {},
   "outputs": [],
   "source": []
  }
 ],
 "metadata": {
  "kernelspec": {
   "display_name": "Python 3 (ipykernel)",
   "language": "python",
   "name": "python3"
  },
  "language_info": {
   "codemirror_mode": {
    "name": "ipython",
    "version": 3
   },
   "file_extension": ".py",
   "mimetype": "text/x-python",
   "name": "python",
   "nbconvert_exporter": "python",
   "pygments_lexer": "ipython3",
   "version": "3.10.10"
  }
 },
 "nbformat": 4,
 "nbformat_minor": 5
}
