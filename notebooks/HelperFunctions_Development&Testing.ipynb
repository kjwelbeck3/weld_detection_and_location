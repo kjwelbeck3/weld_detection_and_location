{
 "cells": [
  {
   "cell_type": "code",
   "execution_count": 1,
   "id": "9a521ec8",
   "metadata": {},
   "outputs": [],
   "source": [
    "## Dev and Test bed for various UI-related utility functions "
   ]
  },
  {
   "cell_type": "code",
   "execution_count": 2,
   "id": "6a6fd595",
   "metadata": {},
   "outputs": [],
   "source": [
    "import numpy as np\n",
    "import os"
   ]
  },
  {
   "cell_type": "code",
   "execution_count": 29,
   "id": "016deea2",
   "metadata": {},
   "outputs": [
    {
     "name": "stdout",
     "output_type": "stream",
     "text": [
      "['1', '2', '3']\n"
     ]
    }
   ],
   "source": [
    "## To be called on the selected path after the selectfile/folder entity\n",
    "\n",
    "def load_dataset_directory(folder_path):\n",
    "    try:\n",
    "        ## Verifying the selected folder structure\n",
    "        assert os.path.isdir(folder_path), f\"The selected {folder_path} is not a directory\"\n",
    "        scans_path = folder_path+\"scans/\"\n",
    "        assert os.path.isdir(scans_path), \"The selcted directory must contain a 'scans/' folder\"\n",
    "        labels_path = folder_path+\"labels/\"\n",
    "        assert os.path.isdir(labels_path), \"The selcted directory must contain a 'labels/' folder\"\n",
    "\n",
    "        ## List all the files in common between scans and labels subfolders\n",
    "        scans = os.listdir(scans_path)\n",
    "        # scans = [scan.replace(scans_path) for scan in scans]\n",
    "        scans = [\"\".join(scan.split(\".\")[:-1]) for scan in scans]\n",
    "\n",
    "        txts= os.listdir(labels_path)\n",
    "        # txts= [txt.replace(labels_path) for txt in txts]\n",
    "        txts= [\"\".join(txt.split(\".\")[:-1]) for txt in txts]\n",
    "\n",
    "        scans = [scan for scan in scans if scan in txts]\n",
    "        return len(scans), scans\n",
    "    \n",
    "    except AssertionError as e:\n",
    "        return -1, e\n",
    "        \n",
    "    \n",
    "# print(load_dataset_directory(\"./data/\")[1])"
   ]
  },
  {
   "cell_type": "code",
   "execution_count": 65,
   "id": "9cc23d83",
   "metadata": {},
   "outputs": [],
   "source": [
    "def parse_label_string(string):\n",
    "    ''' Expecting a comma separated string of \"xloc, yloc, [ or ]\"  '''\n",
    "\n",
    "    contents = [string.strip() for string in string.split(\",\")]\n",
    "    assert len(contents) == 3, f\"Expected 3 comma-separated items but got {len(contents)} in \\\"{', '.join(contents)}\\\"\"\n",
    "\n",
    "    [xloc,yloc, cls] = contents\n",
    "    xloc = float(xloc)\n",
    "    yloc = float(yloc)\n",
    "    assert cls in [\"[\", \"]\"], f\"Expected [ or ] but got '{cls}'\"\n",
    "    cls = 1 if cls==\"[\" else 2\n",
    "\n",
    "    return 0, {'xloc': xloc, 'yloc':yloc, 'cls':cls }\n",
    "\n",
    "def parse_textbox_labels(text):\n",
    "    ''' Expecting a semicolon separated string of \"xloc, yloc, [ or ]\" as substrings '''\n",
    "    \n",
    "    try:\n",
    "        substrings = text.split(\";\")\n",
    "        substrings = [substring.strip() for substring in text.split(\";\")]\n",
    "        labels = [parse_label_string(substring)[1] for substring in substrings]\n",
    "        return len(labels), labels\n",
    "    \n",
    "    except AssertionError as e:\n",
    "        return -1, e\n",
    "    \n",
    "def label_2_string(label):\n",
    "    string_els = []\n",
    "    string_els.append(label['xloc'])\n",
    "    string_els.append(label['yloc'])\n",
    "    string_els.append(\"[\" if label['cls']==1 else \"]\")\n",
    "    string_els = [str(el) for el in string_els]\n",
    "    string = \", \".join(string_els)\n",
    "    return string\n",
    "    \n",
    "def labels_2_string(labels):\n",
    "    string = \";\\n\".join([label_2_string(label) for label in labels])\n",
    "    return string\n",
    "\n",
    "\n",
    "# print(parse_label_string(\"34,65, ]\")[1])\n",
    "# print()\n",
    "# a_labels = parse_textbox_labels(\"34,1.2,[; 0,3.1,]\")[1]\n",
    "# print(\"a_labels\")\n",
    "# print(a_labels)\n",
    "# print()\n",
    "# a_string = labels_2_string(a_labels)\n",
    "# print(\"a_string\")\n",
    "# print(a_string)"
   ]
  },
  {
   "cell_type": "code",
   "execution_count": 75,
   "id": "267fc736",
   "metadata": {},
   "outputs": [
    {
     "name": "stdout",
     "output_type": "stream",
     "text": [
      "(200,)\n"
     ]
    },
    {
     "ename": "IndexError",
     "evalue": "index 10000 is out of bounds for axis 0 with size 200",
     "output_type": "error",
     "traceback": [
      "\u001b[1;31m---------------------------------------------------------------------------\u001b[0m",
      "\u001b[1;31mIndexError\u001b[0m                                Traceback (most recent call last)",
      "Cell \u001b[1;32mIn[75], line 6\u001b[0m\n\u001b[0;32m      4\u001b[0m m \u001b[38;5;241m=\u001b[39m m[:\u001b[38;5;241m200\u001b[39m]\n\u001b[0;32m      5\u001b[0m \u001b[38;5;28mprint\u001b[39m(m\u001b[38;5;241m.\u001b[39mshape)\n\u001b[1;32m----> 6\u001b[0m \u001b[38;5;28mprint\u001b[39m(\u001b[43mm\u001b[49m\u001b[43m[\u001b[49m\u001b[38;5;241;43m10000\u001b[39;49m\u001b[43m]\u001b[49m)\n\u001b[0;32m      7\u001b[0m \u001b[38;5;28mprint\u001b[39m(m[\u001b[38;5;241m0\u001b[39m:\u001b[38;5;241m10000\u001b[39m:\u001b[38;5;241m10\u001b[39m])\n",
      "\u001b[1;31mIndexError\u001b[0m: index 10000 is out of bounds for axis 0 with size 200"
     ]
    }
   ],
   "source": [
    "# m = np.random.rand(self.pc.shape[0]) < f  ## [QUESTION: I would instead randomize the indicies, then down sample]\n",
    "m = np.arange(1000)\n",
    "np.random.shuffle(m)\n",
    "m = m[:200]\n",
    "print(m.shape)\n",
    "print(m[10000])\n",
    "print(m[0:10000:10])"
   ]
  },
  {
   "cell_type": "code",
   "execution_count": 76,
   "id": "9d92a0cf",
   "metadata": {},
   "outputs": [
    {
     "data": {
      "text/plain": [
       "True"
      ]
     },
     "execution_count": 76,
     "metadata": {},
     "output_type": "execute_result"
    }
   ],
   "source": [
    "path = 'C:/Users/KZTYLF/Documents/playground/GNN UIs/GNN InstanceSegmentation/data/labels/53.txt'\n",
    "os.path.isfile(path)"
   ]
  },
  {
   "cell_type": "code",
   "execution_count": 78,
   "id": "369e3fb4",
   "metadata": {},
   "outputs": [
    {
     "ename": "ValueError",
     "evalue": "invalid mode: 'C:/Users/KZTYLF/Documents/playground/GNN UIs/GNN InstanceSegmentation/data/labels/53.txt'",
     "output_type": "error",
     "traceback": [
      "\u001b[1;31m---------------------------------------------------------------------------\u001b[0m",
      "\u001b[1;31mValueError\u001b[0m                                Traceback (most recent call last)",
      "Cell \u001b[1;32mIn[78], line 1\u001b[0m\n\u001b[1;32m----> 1\u001b[0m \u001b[38;5;28;01mwith\u001b[39;00m \u001b[38;5;28;43mopen\u001b[39;49m\u001b[43m(\u001b[49m\u001b[38;5;124;43m'\u001b[39;49m\u001b[38;5;124;43mr\u001b[39;49m\u001b[38;5;124;43m'\u001b[39;49m\u001b[43m,\u001b[49m\u001b[43m \u001b[49m\u001b[38;5;124;43m\"\u001b[39;49m\u001b[38;5;124;43mC:/Users/KZTYLF/Documents/playground/GNN UIs/GNN InstanceSegmentation/data/labels/53.txt\u001b[39;49m\u001b[38;5;124;43m\"\u001b[39;49m\u001b[43m)\u001b[49m \u001b[38;5;28;01mas\u001b[39;00m f:\n\u001b[0;32m      2\u001b[0m     lines \u001b[38;5;241m=\u001b[39m f\u001b[38;5;241m.\u001b[39mreadlines()\n\u001b[0;32m      3\u001b[0m     \u001b[38;5;28mprint\u001b[39m(lines)\n",
      "File \u001b[1;32m~\\Anaconda3\\envs\\gnn-env\\lib\\site-packages\\IPython\\core\\interactiveshell.py:282\u001b[0m, in \u001b[0;36m_modified_open\u001b[1;34m(file, *args, **kwargs)\u001b[0m\n\u001b[0;32m    275\u001b[0m \u001b[38;5;28;01mif\u001b[39;00m file \u001b[38;5;129;01min\u001b[39;00m {\u001b[38;5;241m0\u001b[39m, \u001b[38;5;241m1\u001b[39m, \u001b[38;5;241m2\u001b[39m}:\n\u001b[0;32m    276\u001b[0m     \u001b[38;5;28;01mraise\u001b[39;00m \u001b[38;5;167;01mValueError\u001b[39;00m(\n\u001b[0;32m    277\u001b[0m         \u001b[38;5;124mf\u001b[39m\u001b[38;5;124m\"\u001b[39m\u001b[38;5;124mIPython won\u001b[39m\u001b[38;5;124m'\u001b[39m\u001b[38;5;124mt let you open fd=\u001b[39m\u001b[38;5;132;01m{\u001b[39;00mfile\u001b[38;5;132;01m}\u001b[39;00m\u001b[38;5;124m by default \u001b[39m\u001b[38;5;124m\"\u001b[39m\n\u001b[0;32m    278\u001b[0m         \u001b[38;5;124m\"\u001b[39m\u001b[38;5;124mas it is likely to crash IPython. If you know what you are doing, \u001b[39m\u001b[38;5;124m\"\u001b[39m\n\u001b[0;32m    279\u001b[0m         \u001b[38;5;124m\"\u001b[39m\u001b[38;5;124myou can use builtins\u001b[39m\u001b[38;5;124m'\u001b[39m\u001b[38;5;124m open.\u001b[39m\u001b[38;5;124m\"\u001b[39m\n\u001b[0;32m    280\u001b[0m     )\n\u001b[1;32m--> 282\u001b[0m \u001b[38;5;28;01mreturn\u001b[39;00m io_open(file, \u001b[38;5;241m*\u001b[39margs, \u001b[38;5;241m*\u001b[39m\u001b[38;5;241m*\u001b[39mkwargs)\n",
      "\u001b[1;31mValueError\u001b[0m: invalid mode: 'C:/Users/KZTYLF/Documents/playground/GNN UIs/GNN InstanceSegmentation/data/labels/53.txt'"
     ]
    }
   ],
   "source": [
    "with open('r', \"C:/Users/KZTYLF/Documents/playground/GNN UIs/GNN InstanceSegmentation/data/labels/53.txt\") as f:\n",
    "    lines = f.readlines()\n",
    "    print(lines)\n",
    "    "
   ]
  },
  {
   "cell_type": "code",
   "execution_count": 3,
   "id": "bd8d73ed",
   "metadata": {},
   "outputs": [
    {
     "name": "stdout",
     "output_type": "stream",
     "text": [
      "arc1_xy.shape (2, 1)\n",
      "arc2_xy.shape (2, 1)\n",
      "R.shape (2, 2)\n",
      "arc1_xy\n",
      "[[0.125]\n",
      " [0.25 ]]\n",
      "arc2_xy\n",
      "[[ 0.125]\n",
      " [-0.25 ]]\n",
      "####\n",
      "(array([0.25]), array([0.625]))\n",
      "####\n",
      "(array([0.75]), array([0.625]))\n"
     ]
    },
    {
     "data": {
      "image/png": "[encoded data removed]",
      "text/plain": [
       "<Figure size 500x500 with 1 Axes>"
      ]
     },
     "metadata": {},
     "output_type": "display_data"
    }
   ],
   "source": [
    "import matplotlib.pyplot as plt\n",
    "import matplotlib.patches as patch\n",
    "\n",
    "center = (0.5, 0.5)\n",
    "straight_x_offset = -.10\n",
    "straight_height = .5\n",
    "straight_width = 0.05 \n",
    "arc_radius = 0.125\n",
    "arc_offset = 0\n",
    "width = .50\n",
    "height = 0.8\n",
    "rotation =90\n",
    "\n",
    "theta = np.radians(rotation)\n",
    "c,s = np.cos(theta), np.sin(theta)\n",
    "R = np.array([[c, -s],[s, c]])\n",
    "\n",
    "\n",
    "straight_xy = (center[0] - straight_width/2.0, center[1] - straight_height/2.0)\n",
    "r_ca =  np.array([-straight_width/2.0, -straight_height/2.0]).reshape((2,1))\n",
    "# straight_xy2 = (center[0] - straight_width/2.0, center[1] - straight_height/2.0)\n",
    "# center_arr = np.array([center[0], center[1]]).reshape((2,1))\n",
    "# center_arr = np.array([center[0] - straight_width/2.0, center[1] - straight_height/2.0]).reshape((2,1))\n",
    "center_arr = np.array([center[0] , center[1]]).reshape((2,1))\n",
    "arc1_xy = np.array([center[0]+arc_radius, center[1]+straight_height/2.0]).reshape((2,1))\n",
    "arc2_xy = np.array([center[0]+arc_radius, center[1]-straight_height/2.0]).reshape((2,1))\n",
    "\n",
    "\n",
    "\n",
    "fig, ax = plt.subplots()\n",
    "fig.set_figheight(5)\n",
    "fig.set_figwidth(5)\n",
    "# ax.add_patch(patch.Annulus((arc1_xy), arc_radius+straight_width/2.0, straight_width, color=\"green\"))\n",
    "# ax.add_patch(patch.Annulus((arc2_xy), arc_radius+straight_width/2.0, straight_width, color=\"green\"))\n",
    "# ax.add_patch(patch.Rectangle(straight_xy, straight_width, straight_height, angle=rotation, color=\"red\"))\n",
    "# # ax.add_patch(patch.Arc((arc1_xy), arc_radius*2.0, arc_radius*2.0, theta1=-90, theta2=180, color=\"blue\"))\n",
    "# # ax.add_patch(patch.Circle((arc1_xy), arc_radius, color=\"blue\"))\n",
    "\n",
    "print(\"arc1_xy.shape\", arc1_xy.shape )\n",
    "print(\"arc2_xy.shape\", arc2_xy.shape )\n",
    "print(\"R.shape\", R.shape)\n",
    "\n",
    "arc1_xy -=center_arr\n",
    "arc2_xy -=center_arr\n",
    "print(\"arc1_xy\")\n",
    "print(arc1_xy)\n",
    "print(\"arc2_xy\")\n",
    "print(arc2_xy)\n",
    "\n",
    "\n",
    "r_ca_1 = R@r_ca +center_arr\n",
    "# ax.add_patch(patch.Rectangle(r_ca_1, straight_width, straight_height, angle=rotation, color=\"red\"))\n",
    "# arc1_xy_1 = arc1_xy@R\n",
    "# arc1_xy = arc1_xy_1[0], arc1_xy_1[1]\n",
    "\n",
    "# arc1_xy_2 = np.linalg.inv(R)@arc1_xy\n",
    "# arc1_xy_2 = R@arc1_xy\n",
    "\n",
    "arc1_xy_2 = R@arc1_xy + center_arr \n",
    "arc1_xy = arc1_xy_2[0], arc1_xy_2[1]\n",
    "print(\"####\")\n",
    "print(arc1_xy)\n",
    "\n",
    "# arc2_xy_1 = arc2_xy@R\n",
    "# arc2_xy = arc2_xy_1[0], arc2_xy_1[1]\n",
    "\n",
    "# arc2_xy_2 = R@arc2_xy \n",
    "arc2_xy_2 = R@arc2_xy + center_arr\n",
    "# arc2_xy_2 = np.linalg.inv(R)@arc2_xy\n",
    "arc2_xy = arc2_xy_2[0], arc2_xy_2[1]\n",
    "print(\"####\")\n",
    "print(arc2_xy)\n",
    "\n",
    "ax.add_patch(patch.Circle((center[0], center[1]), 0.02, color=\"black\"))\n",
    "ax.add_patch(patch.Rectangle((center[0], center[1]), straight_width/2.0, straight_height/2.0, angle=rotation, color=\"red\"))\n",
    "ax.add_patch(patch.Rectangle((center[0], center[1]), -straight_width/2.0, straight_height/2.0, angle=rotation, color=\"red\"))\n",
    "ax.add_patch(patch.Rectangle((center[0], center[1]), -straight_width/2.0, -straight_height/2.0, angle=rotation, color=\"red\"))\n",
    "ax.add_patch(patch.Rectangle((center[0], center[1]), straight_width/2.0, -straight_height/2.0, angle=rotation, color=\"red\"))\n",
    "ax.add_patch(patch.Annulus((arc1_xy), arc_radius+straight_width/2.0, straight_width, color=\"blue\"))\n",
    "ax.add_patch(patch.Annulus((arc2_xy), arc_radius+straight_width/2.0, straight_width, color=\"blue\"))\n",
    "\n",
    "\n",
    "plt.show()"
   ]
  },
  {
   "cell_type": "code",
   "execution_count": 4,
   "id": "83b97261",
   "metadata": {},
   "outputs": [],
   "source": [
    "staple_params = {\n",
    "    'lh':0.5,\n",
    "    'lw':0.05,\n",
    "    'r':0.125,\n",
    "    'color':\"#000\",\n",
    "    'alpha': 0.1,\n",
    "    \n",
    "    \n",
    "}\n",
    "def add_staple_patch(ax, center, angle, cls):\n",
    "    \n",
    "    theta = np.radians(angle)\n",
    "    c,s = np.cos(theta), np.sin(theta)\n",
    "    R = np.array([[c, -s],[s, c]])\n",
    "    \n",
    "    _center = np.array(center).reshape((2,1))\n",
    "    \n",
    "    if cls ==1:\n",
    "        arc1_xy = np.array([center[0]+staple_params['r'], center[1]+staple_params['lh']/2.0]).reshape((2,1))\n",
    "        arc2_xy = np.array([center[0]+staple_params['r'], center[1]-staple_params['lh']/2.0]).reshape((2,1))\n",
    "    elif cls==2:\n",
    "        arc1_xy = np.array([center[0]-staple_params['r'], center[1]+staple_params['lh']/2.0]).reshape((2,1))\n",
    "        arc2_xy = np.array([center[0]-staple_params['r'], center[1]-staple_params['lh']/2.0]).reshape((2,1))\n",
    "    \n",
    "    arc1_xy -=_center\n",
    "    arc2_xy -=_center\n",
    "    \n",
    "    arc1_xy = R@arc1_xy + _center\n",
    "    arc2_xy = R@arc2_xy + _center\n",
    "\n",
    "    a = ax.add_patch(patch.Rectangle((center[0], center[1]), staple_params['lw']/2.0, staple_params['lh']/2.0, angle=angle, color=staple_params['color'], alpha=staple_params['alpha']))\n",
    "    b = ax.add_patch(patch.Rectangle((center[0], center[1]), -staple_params['lw']/2.0, staple_params['lh']/2.0, angle=angle, color=staple_params['color'], alpha=staple_params['alpha']))\n",
    "    c = ax.add_patch(patch.Rectangle((center[0], center[1]), -staple_params['lw']/2.0, -staple_params['lh']/2.0, angle=angle, color=staple_params['color'], alpha=staple_params['alpha']))\n",
    "    d = ax.add_patch(patch.Rectangle((center[0], center[1]), staple_params['lw']/2.0, -staple_params['lh']/2.0, angle=angle, color=staple_params['color'], alpha=staple_params['alpha']))\n",
    "    e = ax.add_patch(patch.Annulus((arc1_xy), arc_radius+straight_width/2.0, straight_width, color=staple_params['color'], alpha=staple_params['alpha']))\n",
    "    f = ax.add_patch(patch.Annulus((arc2_xy), arc_radius+straight_width/2.0, straight_width, color=staple_params['color'], alpha=staple_params['alpha']))\n",
    "    \n",
    "    patches = [a,b,c,d,e,f]\n",
    "    print(patches)\n",
    "    return patches\n",
    "    \n",
    "    \n",
    "    \n",
    "    "
   ]
  },
  {
   "cell_type": "code",
   "execution_count": 8,
   "id": "24aaaa38",
   "metadata": {},
   "outputs": [
    {
     "name": "stdout",
     "output_type": "stream",
     "text": [
      "[<matplotlib.patches.Rectangle object at 0x000001F0FD4D8580>, <matplotlib.patches.Rectangle object at 0x000001F0FD4282E0>, <matplotlib.patches.Rectangle object at 0x000001F0FD428D90>, <matplotlib.patches.Rectangle object at 0x000001F0FD428C70>, <matplotlib.patches.Annulus object at 0x000001F0FD428790>, <matplotlib.patches.Annulus object at 0x000001F0FD428700>]\n",
      "[<matplotlib.patches.Rectangle object at 0x000001F0FD45F010>, <matplotlib.patches.Rectangle object at 0x000001F0FD42AB30>, <matplotlib.patches.Rectangle object at 0x000001F0FD42AE60>, <matplotlib.patches.Rectangle object at 0x000001F0FD42B430>, <matplotlib.patches.Annulus object at 0x000001F0FD42BA60>, <matplotlib.patches.Annulus object at 0x000001F0FD42B250>]\n"
     ]
    },
    {
     "data": {
      "image/png": "[encoded data removed]",
      "text/plain": [
       "<Figure size 500x500 with 1 Axes>"
      ]
     },
     "metadata": {},
     "output_type": "display_data"
    }
   ],
   "source": [
    "fig, ax = plt.subplots()\n",
    "fig.set_figheight(5)\n",
    "fig.set_figwidth(5)\n",
    "a = add_staple_patch(ax, (0.5,0.5), 10, 1)\n",
    "b = add_staple_patch(ax, (0.4,0.4), 10, 2)"
   ]
  },
  {
   "cell_type": "code",
   "execution_count": 203,
   "id": "14edbf24",
   "metadata": {},
   "outputs": [],
   "source": [
    "for b in a:\n",
    "    b.remove()"
   ]
  },
  {
   "cell_type": "code",
   "execution_count": 216,
   "id": "79b4ca25",
   "metadata": {},
   "outputs": [],
   "source": [
    "for patch in ax.patches:\n",
    "    patch.remove()"
   ]
  },
  {
   "cell_type": "code",
   "execution_count": 217,
   "id": "70cdd101",
   "metadata": {},
   "outputs": [
    {
     "data": {
      "image/png": "[encoded data removed]",
      "text/plain": [
       "<Figure size 500x500 with 1 Axes>"
      ]
     },
     "execution_count": 217,
     "metadata": {},
     "output_type": "execute_result"
    }
   ],
   "source": [
    "fig"
   ]
  },
  {
   "cell_type": "code",
   "execution_count": 222,
   "id": "9abfe467",
   "metadata": {},
   "outputs": [],
   "source": [
    "text = \"dk; dk;\""
   ]
  },
  {
   "cell_type": "code",
   "execution_count": 224,
   "id": "d4b4e46c",
   "metadata": {},
   "outputs": [
    {
     "data": {
      "text/plain": [
       "['dk', 'dk', '']"
      ]
     },
     "execution_count": 224,
     "metadata": {},
     "output_type": "execute_result"
    }
   ],
   "source": [
    "substrings = [substring.strip() for substring in text.split(\";\")]\n",
    "# substrings = [substring for substring in substrings if substring!=\"\"]\n",
    "        \n",
    "# labels = [parse_label_string(substring)[1] for substring in substrings]\n",
    "#         return len(labels), labels\n",
    "substrings"
   ]
  },
  {
   "cell_type": "code",
   "execution_count": 11,
   "id": "d4567c05",
   "metadata": {},
   "outputs": [
    {
     "data": {
      "text/plain": [
       "'dfaj;ksdh; '"
      ]
     },
     "execution_count": 11,
     "metadata": {},
     "output_type": "execute_result"
    }
   ],
   "source": [
    "\";dfaj;ksdh; \".strip(\";\")"
   ]
  },
  {
   "cell_type": "code",
   "execution_count": null,
   "id": "fd7b522c",
   "metadata": {},
   "outputs": [],
   "source": []
  }
 ],
 "metadata": {
  "kernelspec": {
   "display_name": "Python 3 (ipykernel)",
   "language": "python",
   "name": "python3"
  },
  "language_info": {
   "codemirror_mode": {
    "name": "ipython",
    "version": 3
   },
   "file_extension": ".py",
   "mimetype": "text/x-python",
   "name": "python",
   "nbconvert_exporter": "python",
   "pygments_lexer": "ipython3",
   "version": "3.10.10"
  }
 },
 "nbformat": 4,
 "nbformat_minor": 5
}
