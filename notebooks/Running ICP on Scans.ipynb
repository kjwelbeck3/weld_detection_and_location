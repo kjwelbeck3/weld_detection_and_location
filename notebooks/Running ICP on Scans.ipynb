{
 "cells": [
  {
   "cell_type": "code",
   "execution_count": 1,
   "id": "66af0ff0",
   "metadata": {},
   "outputs": [],
   "source": [
    "## A singular interface to run icp on a scan\n",
    "## Goal is to get the weld center predictions\n",
    "## Function should specify \n",
    "#  - the version of ICP and the ICP args\n",
    "#  - the initial transfrom\n",
    "\n"
   ]
  },
  {
   "cell_type": "code",
   "execution_count": 2,
   "id": "136219bb",
   "metadata": {},
   "outputs": [
    {
     "name": "stdout",
     "output_type": "stream",
     "text": [
      "Jupyter environment detected. Enabling Open3D WebVisualizer.\n",
      "[Open3D INFO] WebRTC GUI backend enabled.\n",
      "[Open3D INFO] WebRTCWindowSystem: HTTP handshake server disabled.\n"
     ]
    }
   ],
   "source": [
    "# Importing (from) libs\n",
    "import torch\n",
    "import numpy as np\n",
    "import sklearn\n",
    "import os, errno\n",
    "import sys\n",
    "from datetime import datetime\n",
    "import time\n",
    "import csv\n",
    "import open3d as o3d\n",
    "import copy\n",
    "\n",
    "import pandas as pd\n",
    "from sklearn.cluster import DBSCAN\n",
    "from sklearn.metrics import silhouette_score\n",
    "from matplotlib import pyplot as plt\n",
    "from sklearn.preprocessing import StandardScaler\n",
    "from math import floor, ceil\n",
    "from scipy.stats import mode\n",
    "\n",
    "from Instseg_model import MultiLayerFastLocalGraphModelV2 as model1\n",
    "from dataset import pcloader\n",
    "from graph_generation import gen_multi_level_local_graph_v3"
   ]
  },
  {
   "cell_type": "code",
   "execution_count": 3,
   "id": "a64b3a17",
   "metadata": {},
   "outputs": [],
   "source": [
    "# Importing from ExploringDBSCAN\n",
    "from exploringDBSCAN import configure_model, \\\n",
    "                            get_weld_instances_from_3D_clustering, \\\n",
    "                            get_matching_template, \\\n",
    "                            compute_FPFH_for_weld_points_2D, \\\n",
    "                            compute_FPFH, global_reg_by_RANSAC, \\\n",
    "                            global_reg_by_FGR, global_reg_by_mean, \\\n",
    "                            global_reg_by_median, \\\n",
    "                            global_reg_by_mid, \\\n",
    "                            transform_to_xyztheta, \\\n",
    "                            point_to_point_ICP, \\\n",
    "                            point_to_plane_ICP, \\\n",
    "                            gen_weld_templates_by_params, \\\n",
    "                            gen_volumetric_weld_templates_by_params"
   ]
  },
  {
   "cell_type": "code",
   "execution_count": 4,
   "id": "d1bfe150",
   "metadata": {},
   "outputs": [
    {
     "name": "stdout",
     "output_type": "stream",
     "text": [
      "Model Setup Time (secs) : 0.3090033531188965\n"
     ]
    }
   ],
   "source": [
    "## Setup: The model, templates, scan_path\n",
    "\n",
    "# model\n",
    "model_params_path = \"./_model/train1-fix3/2023_06_22_17_01_13/params_epoch497_for_min_test_loss.pt\"\n",
    "model = configure_model(model_params_path, verbose=True)\n",
    "\n",
    "# templates\n",
    "vol_templates_dict = gen_volumetric_weld_templates_by_params()\n",
    "# templates_dict = gen_weld_templates_by_params()\n",
    "# 2circle_2D_template_dict\n",
    "# 2circle_vol_template_dict\n"
   ]
  },
  {
   "cell_type": "code",
   "execution_count": 5,
   "id": "82f756ff",
   "metadata": {},
   "outputs": [],
   "source": [
    "scan_path = \"./_data/scans/LH-1--2312014-NoResult-l-2023_06_02-7-56-18-48.ply\""
   ]
  },
  {
   "cell_type": "code",
   "execution_count": 8,
   "id": "7c9d8755",
   "metadata": {},
   "outputs": [],
   "source": [
    "def runICPonScan(scan_path, model, icp_templates, \\\n",
    "                 icp_init_mode, icp_type, \\\n",
    "                 icp_max_correspondence_difference, voxel_size, \\\n",
    "                 dir_path):\n",
    "    \"\"\"\n",
    "    icp_init_mode: \"ransac\", \"fgr\", \"mid\", \"mean\", or \"median\"\n",
    "    icp_type : \"point_to_point\" or \"point_to_plane\"\n",
    "    \"\"\"\n",
    "    \n",
    "    eps = 2\n",
    "    min_samples = 20\n",
    "    inst_weight = 1\n",
    "    tag = \"XYZ_\"\n",
    "    voxel_size = 0.2\n",
    "    \n",
    "    # Convergence Criteria per ICP type\n",
    "    pt2pt_criteria = o3d.t.pipelines.registration.ICPConvergenceCriteria(relative_fitness=0.0000000001,\n",
    "                                       relative_rmse=0.0000000000000000001,\n",
    "                                       max_iteration=5000)\n",
    "    \n",
    "    pt2pl_criteria = o3d.t.pipelines.registration.ICPConvergenceCriteria(relative_fitness=0.0000000001,\n",
    "                                       relative_rmse=0.0000000000000000001,\n",
    "                                       max_iteration=5000)\n",
    "    \n",
    "    ## ICP Type Objects\n",
    "    pt2pt_estimation = o3d.t.pipelines.registration.TransformationEstimationPointToPoint()\n",
    "    pt2pl_estimation = o3d.t.pipelines.registration.TransformationEstimationPointToPlane()\n",
    "    \n",
    "    ## Example callback_after_iteration lambda function:\n",
    "    callback_after_iteration = lambda updated_result_dict : print(\"Iteration Index: {}, Fitness: {}, Inlier RMSE: {},\".format(\n",
    "    updated_result_dict[\"iteration_index\"].item(),\n",
    "    updated_result_dict[\"fitness\"].item(),\n",
    "    updated_result_dict[\"inlier_rmse\"].item()))\n",
    "    \n",
    "    ### welds: a list of dicts representing each welds encapsulating respective min/max/mean/median/modes/etc\n",
    "    ### scan_data --> removing too small and too large clusters --> x|y|z|cls_preds|inst_preds|clustering|cls_clean|inst_clean\n",
    "    welds, scan_data = get_weld_instances_from_3D_clustering(model, scan_path, eps, min_samples, inst_weight, tag=tag, dir_path=dir_path+\"clustering/\")\n",
    "    \n",
    "    weld_PointClouds = []\n",
    "    template_PointClouds = []\n",
    "    template_ICPTransforms = []\n",
    "    for idx, weld in enumerate(welds):\n",
    "\n",
    "\n",
    "        ## 3. Get equivalent template for weld type\n",
    "        template = get_matching_template(weld, icp_templates)\n",
    "\n",
    "\n",
    "        ## 3.5 Compute FPFH Features --> needed for fast global registration\n",
    "        ## Added to weld dict\n",
    "        ## For weld\n",
    "        compute_FPFH_for_weld_points_2D(weld, voxel_size)\n",
    "        ## For Template\n",
    "        if \"down\" not in template.keys() or \"fpfh\" not in template.keys():\n",
    "            template_down, template_fpfh = compute_FPFH(template[\"xyz\"], voxel_size)\n",
    "            template[\"down\"], template[\"fpfh\"] = template_down, template_fpfh ## [possible RED FLAG] -- verify the templates dict is updated globally and not recomputed al the tiem\n",
    "            print(\"Added downsampling and fpfh entries to template dict\")\n",
    "            \n",
    "        ## Constructing Point Cloud Objects for weld \n",
    "        weld_pcd = o3d.t.geometry.PointCloud()\n",
    "        weld_pcd.point.positions = o3d.core.Tensor(weld[\"xyz\"])\n",
    "\n",
    "        template_pcd = o3d.t.geometry.PointCloud()\n",
    "        template_pcd.point.positions = o3d.core.Tensor(template[\"xyz\"])\n",
    "        \n",
    "            \n",
    "        ## Initial Transformation: Loose Registration\n",
    "        T_init = None\n",
    "        if icp_init_mode == 'ransac':\n",
    "            T_init, _, _, _ = global_reg_by_RANSAC(template, weld, voxel_size)\n",
    "        \n",
    "        elif icp_init_mode == 'fgr':\n",
    "            T_init, _, _, _ = global_reg_by_FGR(template, weld, voxel_size)\n",
    "\n",
    "        elif icp_init_mode == 'mid':\n",
    "            T_init, _, _, _ = global_reg_by_mid(template, weld)\n",
    "\n",
    "        elif icp_init_mode == 'mean':\n",
    "            T_init, _, _, _ = global_reg_by_mean(template, weld)\n",
    "            \n",
    "        elif icp_init_mode == 'median':\n",
    "            T_init, _, _, _ = global_reg_by_median(template, weld)\n",
    "        \n",
    "        T_init = o3d.core.Tensor(T_init)\n",
    "            \n",
    "            \n",
    "        ## ICP Registration: Tighter Registration\n",
    "        registation_icp = None\n",
    "        icp_time = None\n",
    "\n",
    "        if icp_type == \"point_to_point\":\n",
    "            s = time.time()\n",
    "            registration_icp =  o3d.t.pipelines.registration.icp(template_pcd, weld_pcd, max_correspondence_distance,\n",
    "                                        T_init, pt2pt_estimation, pt2pt_criteria, voxel_size,\n",
    "                                        callback_after_iteration=callback_after_iteration)\n",
    "            icp_time = time.time() - s\n",
    "            \n",
    "        elif icp_type == \"point_to_plane\":\n",
    "            s = time.time()\n",
    "\n",
    "            registration_icp =  o3d.t.pipelines.registration.icp(template_pcd, weld_pcd, max_correspondence_distance,\n",
    "                                        T_init, pt2pl_estimation, pt2pl_criteria, voxel_size,\n",
    "                                        callback_after_iteration=callback_after_iteration)\n",
    "            icp_time = time.time() - s\n",
    "\n",
    "        print(f\"Time taken by ICP ({weld['tag']}): \", icp_time)\n",
    "        print(\"Inlier Fitness: \", registration_icp.fitness)\n",
    "        print(\"Inlier RMSE: \", registration_icp.inlier_rmse)\n",
    "        print()\n",
    "       \n",
    "    \n",
    "        ## collecting source and target point clouds and the transformation for inspection/visualization\n",
    "        weld_PointClouds.append(copy.deepcopy(weld_pcd))\n",
    "        template_PointClouds.append(template_pcd)\n",
    "        template_ICPTransforms.append(registration_icp.transformation)\n",
    "        \n",
    "        return weld_PointClouds, template_PointClouds, template_ICPTransforms\n",
    "        \n"
   ]
  },
  {
   "cell_type": "code",
   "execution_count": 9,
   "id": "904e234e",
   "metadata": {},
   "outputs": [
    {
     "name": "stdout",
     "output_type": "stream",
     "text": [
      "Scan Inference Time (secs):  15.580561637878418\n",
      "\n"
     ]
    },
    {
     "ename": "NameError",
     "evalue": "name 'template_xyz' is not defined",
     "output_type": "error",
     "traceback": [
      "\u001b[1;31m---------------------------------------------------------------------------\u001b[0m",
      "\u001b[1;31mNameError\u001b[0m                                 Traceback (most recent call last)",
      "Cell \u001b[1;32mIn[9], line 1\u001b[0m\n\u001b[1;32m----> 1\u001b[0m weld_PCs, template_PCs, template_Ts \u001b[38;5;241m=\u001b[39m \u001b[43mrunICPonScan\u001b[49m\u001b[43m(\u001b[49m\u001b[43mscan_path\u001b[49m\u001b[43m,\u001b[49m\u001b[43m \u001b[49m\u001b[43mmodel\u001b[49m\u001b[43m,\u001b[49m\u001b[43m \u001b[49m\u001b[43mvol_templates_dict\u001b[49m\u001b[43m,\u001b[49m\u001b[43m \u001b[49m\u001b[43m\\\u001b[49m\n\u001b[0;32m      2\u001b[0m \u001b[43m                                                   \u001b[49m\u001b[38;5;124;43m\"\u001b[39;49m\u001b[38;5;124;43mmid\u001b[39;49m\u001b[38;5;124;43m\"\u001b[39;49m\u001b[43m,\u001b[49m\u001b[43m \u001b[49m\u001b[38;5;124;43m\"\u001b[39;49m\u001b[38;5;124;43mpoint_to_point\u001b[39;49m\u001b[38;5;124;43m\"\u001b[39;49m\u001b[43m,\u001b[49m\u001b[43m \u001b[49m\u001b[43m\\\u001b[49m\n\u001b[0;32m      3\u001b[0m \u001b[43m                                                   \u001b[49m\u001b[38;5;241;43m10\u001b[39;49m\u001b[43m,\u001b[49m\u001b[43m \u001b[49m\u001b[38;5;241;43m1\u001b[39;49m\u001b[43m,\u001b[49m\u001b[43m \u001b[49m\u001b[43m\\\u001b[49m\n\u001b[0;32m      4\u001b[0m \u001b[43m                                                   \u001b[49m\u001b[38;5;124;43m\"\u001b[39;49m\u001b[38;5;124;43m./function_check2/\u001b[39;49m\u001b[38;5;124;43m\"\u001b[39;49m\u001b[43m)\u001b[49m\n",
      "Cell \u001b[1;32mIn[8], line 93\u001b[0m, in \u001b[0;36mrunICPonScan\u001b[1;34m(scan_path, model, icp_templates, icp_init_mode, icp_type, icp_max_correspondence_difference, voxel_size, dir_path)\u001b[0m\n\u001b[0;32m     91\u001b[0m \u001b[38;5;28;01mif\u001b[39;00m icp_type \u001b[38;5;241m==\u001b[39m \u001b[38;5;124m\"\u001b[39m\u001b[38;5;124mpoint_to_point\u001b[39m\u001b[38;5;124m\"\u001b[39m:\n\u001b[0;32m     92\u001b[0m     s \u001b[38;5;241m=\u001b[39m time\u001b[38;5;241m.\u001b[39mtime()\n\u001b[1;32m---> 93\u001b[0m     registration_icp \u001b[38;5;241m=\u001b[39m  o3d\u001b[38;5;241m.\u001b[39mt\u001b[38;5;241m.\u001b[39mpipelines\u001b[38;5;241m.\u001b[39mregistration\u001b[38;5;241m.\u001b[39micp(\u001b[43mtemplate_xyz\u001b[49m, weld_xyz, max_correspondence_distance,\n\u001b[0;32m     94\u001b[0m                                 T_init, pt2pt_estimation, pt2pt_criteria, voxel_size,\n\u001b[0;32m     95\u001b[0m                                 callback_after_iteration\u001b[38;5;241m=\u001b[39mcallback_after_iteration)\n\u001b[0;32m     96\u001b[0m     icp_time \u001b[38;5;241m=\u001b[39m time\u001b[38;5;241m.\u001b[39mtime() \u001b[38;5;241m-\u001b[39m s\n\u001b[0;32m     98\u001b[0m \u001b[38;5;28;01melif\u001b[39;00m icp_type \u001b[38;5;241m==\u001b[39m \u001b[38;5;124m\"\u001b[39m\u001b[38;5;124mpoint_to_plane\u001b[39m\u001b[38;5;124m\"\u001b[39m:\n",
      "\u001b[1;31mNameError\u001b[0m: name 'template_xyz' is not defined"
     ]
    },
    {
     "data": {
      "text/plain": [
       "<Figure size 640x480 with 0 Axes>"
      ]
     },
     "metadata": {},
     "output_type": "display_data"
    }
   ],
   "source": [
    "weld_PCs, template_PCs, template_Ts = runICPonScan(scan_path, model, vol_templates_dict, \\\n",
    "                                                   \"mid\", \"point_to_point\", \\\n",
    "                                                   10, 1, \\\n",
    "                                                   \"./function_check2/\")"
   ]
  },
  {
   "cell_type": "code",
   "execution_count": null,
   "id": "7c6ed9f0",
   "metadata": {},
   "outputs": [],
   "source": []
  }
 ],
 "metadata": {
  "kernelspec": {
   "display_name": "Python 3 (ipykernel)",
   "language": "python",
   "name": "python3"
  },
  "language_info": {
   "codemirror_mode": {
    "name": "ipython",
    "version": 3
   },
   "file_extension": ".py",
   "mimetype": "text/x-python",
   "name": "python",
   "nbconvert_exporter": "python",
   "pygments_lexer": "ipython3",
   "version": "3.10.10"
  }
 },
 "nbformat": 4,
 "nbformat_minor": 5
}
