{
 "cells": [
  {
   "cell_type": "code",
   "execution_count": 1,
   "id": "e6d2c61c",
   "metadata": {},
   "outputs": [],
   "source": [
    "import matplotlib.pyplot as plt\n"
   ]
  },
  {
   "cell_type": "code",
   "execution_count": 44,
   "id": "687c09ca",
   "metadata": {},
   "outputs": [
    {
     "name": "stdout",
     "output_type": "stream",
     "text": [
      "markers\n",
      "<matplotlib.collections.PathCollection object at 0x00000167F339FF10>\n",
      "<Axes.ArtistList of 1 collections>\n",
      "<matplotlib.collections.PathCollection object at 0x00000167F339FF10>\n",
      "['_A', '_PROPERTIES_EXCLUDED_FROM_SET', '__class__', '__delattr__', '__dict__', '__dir__', '__doc__', '__eq__', '__format__', '__ge__', '__getattribute__', '__getstate__', '__gt__', '__hash__', '__init__', '__init_subclass__', '__le__', '__lt__', '__module__', '__ne__', '__new__', '__reduce__', '__reduce_ex__', '__repr__', '__setattr__', '__sizeof__', '__str__', '__subclasshook__', '__weakref__', '_agg_filter', '_alias_map', '_alpha', '_animated', '_antialiaseds', '_axes', '_bcast_lwls', '_callbacks', '_capstyle', '_clipon', '_clippath', '_cm_set', '_default_contains', '_edge_default', '_edge_is_mapped', '_edgecolors', '_face_is_mapped', '_facecolors', '_factor', '_fully_clipped_to_axes', '_get_default_antialiased', '_get_default_edgecolor', '_get_default_facecolor', '_get_default_linewidth', '_gid', '_hatch', '_hatch_color', '_id_norm', '_in_layout', '_internal_update', '_joinstyle', '_label', '_linestyles', '_linewidths', '_mapped_colors', '_mouseover', '_norm', '_offset_transform', '_offsets', '_original_edgecolor', '_original_facecolor', '_path_effects', '_paths', '_picker', '_pickradius', '_prepare_points', '_rasterized', '_remove_method', '_scale_norm', '_set_alpha_for_array', '_set_edgecolor', '_set_facecolor', '_set_gc_clip', '_set_mappable_flags', '_sizes', '_sketch', '_snap', '_stale', '_sticky_edges', '_transform', '_transformSet', '_transforms', '_update_props', '_update_set_signature_and_docstring', '_url', '_urls', '_us_linestyles', '_us_lw', '_visible', 'add_callback', 'autoscale', 'autoscale_None', 'axes', 'callbacks', 'changed', 'clipbox', 'cmap', 'colorbar', 'contains', 'convert_xunits', 'convert_yunits', 'draw', 'figure', 'findobj', 'format_cursor_data', 'get_agg_filter', 'get_alpha', 'get_animated', 'get_array', 'get_capstyle', 'get_children', 'get_clim', 'get_clip_box', 'get_clip_on', 'get_clip_path', 'get_cmap', 'get_cursor_data', 'get_dashes', 'get_datalim', 'get_ec', 'get_edgecolor', 'get_edgecolors', 'get_facecolor', 'get_facecolors', 'get_fc', 'get_figure', 'get_fill', 'get_gid', 'get_hatch', 'get_in_layout', 'get_joinstyle', 'get_label', 'get_linestyle', 'get_linestyles', 'get_linewidth', 'get_linewidths', 'get_ls', 'get_lw', 'get_mouseover', 'get_offset_transform', 'get_offsets', 'get_path_effects', 'get_paths', 'get_picker', 'get_pickradius', 'get_rasterized', 'get_sizes', 'get_sketch_params', 'get_snap', 'get_tightbbox', 'get_transOffset', 'get_transform', 'get_transformed_clip_path_and_affine', 'get_transforms', 'get_url', 'get_urls', 'get_visible', 'get_window_extent', 'get_zorder', 'have_units', 'is_transform_set', 'legend_elements', 'mouseover', 'norm', 'pchanged', 'pick', 'pickable', 'properties', 'remove', 'remove_callback', 'set', 'set_aa', 'set_agg_filter', 'set_alpha', 'set_animated', 'set_antialiased', 'set_antialiaseds', 'set_array', 'set_capstyle', 'set_clim', 'set_clip_box', 'set_clip_on', 'set_clip_path', 'set_cmap', 'set_color', 'set_dashes', 'set_ec', 'set_edgecolor', 'set_edgecolors', 'set_facecolor', 'set_facecolors', 'set_fc', 'set_figure', 'set_gid', 'set_hatch', 'set_in_layout', 'set_joinstyle', 'set_label', 'set_linestyle', 'set_linestyles', 'set_linewidth', 'set_linewidths', 'set_ls', 'set_lw', 'set_mouseover', 'set_norm', 'set_offset_transform', 'set_offsets', 'set_path_effects', 'set_paths', 'set_picker', 'set_pickradius', 'set_rasterized', 'set_sizes', 'set_sketch_params', 'set_snap', 'set_transOffset', 'set_transform', 'set_url', 'set_urls', 'set_visible', 'set_zorder', 'stale', 'stale_callback', 'sticky_edges', 'to_rgba', 'update', 'update_from', 'update_scalarmappable', 'zorder']\n",
      "<matplotlib.collections.PathCollection object at 0x00000167F339FF10>\n"
     ]
    },
    {
     "data": {
      "image/png": "[encoded data removed]",
      "text/plain": [
       "<Figure size 640x480 with 1 Axes>"
      ]
     },
     "metadata": {},
     "output_type": "display_data"
    }
   ],
   "source": [
    "x = [1,2,3,4,5,6]\n",
    "y = [1,1,1,1,1,1]\n",
    "\n",
    "fig, ax = plt.subplots()\n",
    "markers = ax.scatter(x, y)\n",
    "\n",
    "print(\"markers\")\n",
    "print(markers)\n",
    "print(ax.collections)\n",
    "for i in ax.collections:\n",
    "    print(i)\n",
    "    print(dir(i))\n",
    "    print(i)\n",
    "\n",
    "# markers.remove()\n",
    "    \n",
    "# dir(ax)"
   ]
  },
  {
   "cell_type": "code",
   "execution_count": 28,
   "id": "441dd6f6",
   "metadata": {},
   "outputs": [],
   "source": [
    "## testing multiple flushes\n",
    "import os"
   ]
  },
  {
   "cell_type": "code",
   "execution_count": 33,
   "id": "64cd47d1",
   "metadata": {},
   "outputs": [],
   "source": [
    "_file = open(\"testfile.txt\", \"w\")\n",
    "for i in range(10):\n",
    "    if i %2 ==0:\n",
    "        _file.write(f\"{i*2}\")\n",
    "        _file.write('\\n')\n",
    "        _file.flush()\n",
    "# _file.close()"
   ]
  },
  {
   "cell_type": "code",
   "execution_count": 34,
   "id": "d80f8758",
   "metadata": {},
   "outputs": [],
   "source": [
    "import torch\n"
   ]
  },
  {
   "cell_type": "code",
   "execution_count": 43,
   "id": "8a382f04",
   "metadata": {},
   "outputs": [
    {
     "data": {
      "text/plain": [
       "tensor([1.0000, 0.5000, 0.3333, 1.8333, 1.8333])"
      ]
     },
     "execution_count": 43,
     "metadata": {},
     "output_type": "execute_result"
    }
   ],
   "source": [
    "alphas = 1/torch.Tensor([1,2,3,0,0])\n",
    "alphas[torch.isinf(alphas)] = torch.sum(alphas[torch.logical_not(torch.isinf(alphas))])\n",
    "alphas"
   ]
  },
  {
   "cell_type": "code",
   "execution_count": null,
   "id": "60ecf6b4",
   "metadata": {},
   "outputs": [],
   "source": []
  }
 ],
 "metadata": {
  "kernelspec": {
   "display_name": "Python 3 (ipykernel)",
   "language": "python",
   "name": "python3"
  },
  "language_info": {
   "codemirror_mode": {
    "name": "ipython",
    "version": 3
   },
   "file_extension": ".py",
   "mimetype": "text/x-python",
   "name": "python",
   "nbconvert_exporter": "python",
   "pygments_lexer": "ipython3",
   "version": "3.10.10"
  }
 },
 "nbformat": 4,
 "nbformat_minor": 5
}
