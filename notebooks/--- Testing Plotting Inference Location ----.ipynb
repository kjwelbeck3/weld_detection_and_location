{
 "cells": [
  {
   "cell_type": "code",
   "execution_count": 30,
   "id": "f373d7ad",
   "metadata": {},
   "outputs": [],
   "source": [
    "# from torch.utils.data import DataLoader\n",
    "import numpy as np\n",
    "# import sys\n",
    "\n",
    "\n",
    "# sys.path.append(\"../\")\n",
    "# from locationing_dataset import MyLocationingDataSet as LocDataset\n",
    "# from train1 import plot_inference_loc"
   ]
  },
  {
   "cell_type": "code",
   "execution_count": 2,
   "id": "ac410760",
   "metadata": {},
   "outputs": [],
   "source": [
    "# ### Get Data Sample[1] and Fictitious Prediction\n",
    "\n",
    "# root_dir = \"C:/Users/KZTYLF/Documents/playground/GNN UIs/GNN InstanceSegmentation/Recreating Dataset/locationing_dataset/test/\"\n",
    "# pc_dir = root_dir+\"point_clouds/\"\n",
    "# gt_dir = root_dir+\"labels/\"\n",
    "# sample_index = 0\n",
    "# graph, label = LocDataset(pc_dir, gt_dir)[sample_index]\n",
    "\n",
    "# prediction = np.array([[0.25, 0.75]])"
   ]
  },
  {
   "cell_type": "code",
   "execution_count": 3,
   "id": "3635dd95",
   "metadata": {},
   "outputs": [],
   "source": [
    "# ## Plotting\n",
    "\n",
    "# plot_inference_loc(prediction, graph, False, additional_pts=True)"
   ]
  },
  {
   "cell_type": "code",
   "execution_count": 4,
   "id": "cbd86a98",
   "metadata": {},
   "outputs": [],
   "source": [
    "# for i in range(5):\n",
    "#     print(i)\n",
    "#     if i == 3:\n",
    "#         break"
   ]
  },
  {
   "cell_type": "code",
   "execution_count": 7,
   "id": "d88f87e3",
   "metadata": {},
   "outputs": [],
   "source": [
    "import torch\n",
    "from torch import nn, sigmoid\n",
    "from torch.nn import MSELoss\n",
    "# from torch.nn.functional import sigmoid"
   ]
  },
  {
   "cell_type": "code",
   "execution_count": 26,
   "id": "7a363715",
   "metadata": {},
   "outputs": [],
   "source": [
    "a = torch.Tensor([[1, 2, 3], [2, 3,4], [4, 4,5]])\n",
    "b = a +5\n",
    "a = sigmoid(a)"
   ]
  },
  {
   "cell_type": "code",
   "execution_count": 27,
   "id": "3b1e027b",
   "metadata": {},
   "outputs": [
    {
     "name": "stdout",
     "output_type": "stream",
     "text": [
      "tensor([0.9820, 0.9820, 0.9933])\n",
      "tensor([ 9.,  9., 10.])\n"
     ]
    }
   ],
   "source": [
    "amax = torch.amax(a, dim=0)\n",
    "bmax = torch.amax(b, dim=0)\n",
    "print(amax)\n",
    "print(bmax)"
   ]
  },
  {
   "cell_type": "code",
   "execution_count": 28,
   "id": "98244022",
   "metadata": {},
   "outputs": [
    {
     "data": {
      "text/plain": [
       "tensor(69.8989)"
      ]
     },
     "execution_count": 28,
     "metadata": {},
     "output_type": "execute_result"
    }
   ],
   "source": [
    "mse = MSELoss()\n",
    "(mse(amax, bmax))\n"
   ]
  },
  {
   "cell_type": "code",
   "execution_count": 51,
   "id": "d9c46f42",
   "metadata": {},
   "outputs": [
    {
     "name": "stdout",
     "output_type": "stream",
     "text": [
      "[array([[0, 1],\n",
      "       [2, 3],\n",
      "       [4, 5],\n",
      "       [6, 7],\n",
      "       [8, 9]]), array([[10, 11],\n",
      "       [12, 13],\n",
      "       [14, 15],\n",
      "       [16, 17],\n",
      "       [18, 19]])]\n"
     ]
    }
   ],
   "source": [
    "arr1 = np.arange(10).reshape((5,2))\n",
    "arr2 = np.arange(10,20).reshape((5,2))\n",
    "list_arrs = [arr1, arr2]\n",
    "print(list_arrs)"
   ]
  },
  {
   "cell_type": "code",
   "execution_count": 52,
   "id": "975b4698",
   "metadata": {},
   "outputs": [
    {
     "name": "stdout",
     "output_type": "stream",
     "text": [
      "[array([[ 5,  6],\n",
      "       [ 7,  8],\n",
      "       [ 9, 10],\n",
      "       [11, 12],\n",
      "       [13, 14]]), array([[15, 16],\n",
      "       [17, 18],\n",
      "       [19, 20],\n",
      "       [21, 22],\n",
      "       [23, 24]])]\n"
     ]
    }
   ],
   "source": [
    "for i in list_arrs:\n",
    "    i += 5\n",
    "print(list_arrs)"
   ]
  },
  {
   "cell_type": "code",
   "execution_count": 44,
   "id": "2d4be2d3",
   "metadata": {},
   "outputs": [
    {
     "name": "stdout",
     "output_type": "stream",
     "text": [
      "tensor([[1., 2., 3.]])\n"
     ]
    }
   ],
   "source": [
    "# output = torch.Tensor([[1, 2, 3], [1, 2, 3]])\n",
    "output = torch.Tensor([[1, 2, 3]])\n",
    "# target = torch.Tensor([[1, 2, 2], [1, 2, 2]])\n",
    "target = torch.Tensor([[1, 2, 2]])\n",
    "print(output)"
   ]
  },
  {
   "cell_type": "code",
   "execution_count": 45,
   "id": "faefa496",
   "metadata": {},
   "outputs": [
    {
     "data": {
      "text/plain": [
       "tensor([[0., 0., 1.]])"
      ]
     },
     "execution_count": 45,
     "metadata": {},
     "output_type": "execute_result"
    }
   ],
   "source": [
    "(output-target)**2"
   ]
  },
  {
   "cell_type": "code",
   "execution_count": 48,
   "id": "2c45cafb",
   "metadata": {},
   "outputs": [
    {
     "data": {
      "text/plain": [
       "tensor(1.)"
      ]
     },
     "execution_count": 48,
     "metadata": {},
     "output_type": "execute_result"
    }
   ],
   "source": [
    "torch.sum((output-target)**2)**(1/2)"
   ]
  },
  {
   "cell_type": "code",
   "execution_count": 49,
   "id": "6ecdeefe",
   "metadata": {},
   "outputs": [
    {
     "data": {
      "text/plain": [
       "inf"
      ]
     },
     "execution_count": 49,
     "metadata": {},
     "output_type": "execute_result"
    }
   ],
   "source": [
    "torch.inf"
   ]
  },
  {
   "cell_type": "code",
   "execution_count": 50,
   "id": "e92b4a7a",
   "metadata": {},
   "outputs": [
    {
     "data": {
      "text/plain": [
       "False"
      ]
     },
     "execution_count": 50,
     "metadata": {},
     "output_type": "execute_result"
    }
   ],
   "source": [
    "5>torch.inf"
   ]
  },
  {
   "cell_type": "code",
   "execution_count": 56,
   "id": "53fa9e1e",
   "metadata": {},
   "outputs": [],
   "source": [
    "file_path = \"C:/Users/KZTYLF/Documents/playground/GNN UIs/GNN InstanceSegmentation/Recreating Dataset/locationing_dataset/train/point_clouds/WELD_LH-1--2312012-NoResult-s-2023_06_02-12-50-30-1_1.npy\"\n",
    "mat1 = np.load(file_path)"
   ]
  },
  {
   "cell_type": "code",
   "execution_count": 57,
   "id": "c96532af",
   "metadata": {},
   "outputs": [
    {
     "data": {
      "text/plain": [
       "(421, 2)"
      ]
     },
     "execution_count": 57,
     "metadata": {},
     "output_type": "execute_result"
    }
   ],
   "source": [
    "mat1.shape"
   ]
  },
  {
   "cell_type": "code",
   "execution_count": 59,
   "id": "9560aa5d",
   "metadata": {},
   "outputs": [
    {
     "data": {
      "text/plain": [
       "array([[-77.70000458,   0.19999962,   0.        ],\n",
       "       [-77.70000458,   7.54999971,   0.        ],\n",
       "       [-79.55000687,  19.15000057,   0.        ],\n",
       "       ...,\n",
       "       [-78.00000763,  18.39999962,   0.        ],\n",
       "       [-79.70000458,  18.55000019,   0.        ],\n",
       "       [-79.17500496,  19.2249999 ,   0.        ]])"
      ]
     },
     "execution_count": 59,
     "metadata": {},
     "output_type": "execute_result"
    }
   ],
   "source": [
    "mat1 = np.hstack((mat1, np.zeros((mat1.shape[0], 1))))\n",
    "mat1"
   ]
  },
  {
   "cell_type": "code",
   "execution_count": null,
   "id": "a8c579b4",
   "metadata": {},
   "outputs": [],
   "source": []
  }
 ],
 "metadata": {
  "kernelspec": {
   "display_name": "Python 3 (ipykernel)",
   "language": "python",
   "name": "python3"
  },
  "language_info": {
   "codemirror_mode": {
    "name": "ipython",
    "version": 3
   },
   "file_extension": ".py",
   "mimetype": "text/x-python",
   "name": "python",
   "nbconvert_exporter": "python",
   "pygments_lexer": "ipython3",
   "version": "3.10.10"
  }
 },
 "nbformat": 4,
 "nbformat_minor": 5
}
